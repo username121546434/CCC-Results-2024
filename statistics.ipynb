{
 "cells": [
  {
   "cell_type": "markdown",
   "metadata": {},
   "source": [
    "# Analysis of contestents who got a perfect score on the CCC"
   ]
  },
  {
   "cell_type": "code",
   "execution_count": 46,
   "metadata": {},
   "outputs": [
    {
     "data": {
      "text/html": [
       "<div>\n",
       "<style scoped>\n",
       "    .dataframe tbody tr th:only-of-type {\n",
       "        vertical-align: middle;\n",
       "    }\n",
       "\n",
       "    .dataframe tbody tr th {\n",
       "        vertical-align: top;\n",
       "    }\n",
       "\n",
       "    .dataframe thead th {\n",
       "        text-align: right;\n",
       "    }\n",
       "</style>\n",
       "<table border=\"1\" class=\"dataframe\">\n",
       "  <thead>\n",
       "    <tr style=\"text-align: right;\">\n",
       "      <th></th>\n",
       "      <th>Last Name</th>\n",
       "      <th>First Name</th>\n",
       "      <th>School</th>\n",
       "      <th>Location</th>\n",
       "    </tr>\n",
       "  </thead>\n",
       "  <tbody>\n",
       "    <tr>\n",
       "      <th>0</th>\n",
       "      <td>AGARWAL</td>\n",
       "      <td>INIKA</td>\n",
       "      <td>French Int'l School</td>\n",
       "      <td>Happy Valley, Hong Kong SAR</td>\n",
       "    </tr>\n",
       "    <tr>\n",
       "      <th>1</th>\n",
       "      <td>AHSAN</td>\n",
       "      <td>UMAYEER</td>\n",
       "      <td>Bloor C.I.</td>\n",
       "      <td>Toronto, ON</td>\n",
       "    </tr>\n",
       "    <tr>\n",
       "      <th>2</th>\n",
       "      <td>AIOANEI</td>\n",
       "      <td>ANTONIA</td>\n",
       "      <td>A.Y. Jackson S.S.</td>\n",
       "      <td>North York, ON</td>\n",
       "    </tr>\n",
       "    <tr>\n",
       "      <th>3</th>\n",
       "      <td>ANTONIADIS</td>\n",
       "      <td>STYLIANOS NIKOLAOS</td>\n",
       "      <td>Georgios Ioakeimidis</td>\n",
       "      <td>Athens, Greece</td>\n",
       "    </tr>\n",
       "    <tr>\n",
       "      <th>4</th>\n",
       "      <td>ANYANWU</td>\n",
       "      <td>LIGHT-ALVIN</td>\n",
       "      <td>Graceland Int'l School</td>\n",
       "      <td>Port Harcourt, Nigeria</td>\n",
       "    </tr>\n",
       "    <tr>\n",
       "      <th>...</th>\n",
       "      <td>...</td>\n",
       "      <td>...</td>\n",
       "      <td>...</td>\n",
       "      <td>...</td>\n",
       "    </tr>\n",
       "    <tr>\n",
       "      <th>180</th>\n",
       "      <td>ZHOU</td>\n",
       "      <td>ZHIYUAN</td>\n",
       "      <td>Earl of March S.S.</td>\n",
       "      <td>Kanata, ON</td>\n",
       "    </tr>\n",
       "    <tr>\n",
       "      <th>181</th>\n",
       "      <td>ZHOU</td>\n",
       "      <td>DONG XIAO</td>\n",
       "      <td>NaN</td>\n",
       "      <td>Richmond, BC</td>\n",
       "    </tr>\n",
       "    <tr>\n",
       "      <th>182</th>\n",
       "      <td>ZHOU</td>\n",
       "      <td>RICHARD</td>\n",
       "      <td>Diocesan Boys School</td>\n",
       "      <td>Kowloon, Hong Kong SAR</td>\n",
       "    </tr>\n",
       "    <tr>\n",
       "      <th>183</th>\n",
       "      <td>ZHOU</td>\n",
       "      <td>YIHANG</td>\n",
       "      <td>Nanjing Foreign Language School I</td>\n",
       "      <td>Nanjing, China</td>\n",
       "    </tr>\n",
       "    <tr>\n",
       "      <th>184</th>\n",
       "      <td>ZHOU</td>\n",
       "      <td>RUI</td>\n",
       "      <td>Outstanding International Academy</td>\n",
       "      <td>Markham, ON</td>\n",
       "    </tr>\n",
       "  </tbody>\n",
       "</table>\n",
       "<p>185 rows × 4 columns</p>\n",
       "</div>"
      ],
      "text/plain": [
       "      Last Name          First Name                             School   \n",
       "0       AGARWAL               INIKA                French Int'l School  \\\n",
       "1         AHSAN             UMAYEER                         Bloor C.I.   \n",
       "2       AIOANEI             ANTONIA                  A.Y. Jackson S.S.   \n",
       "3    ANTONIADIS  STYLIANOS NIKOLAOS               Georgios Ioakeimidis   \n",
       "4       ANYANWU         LIGHT-ALVIN             Graceland Int'l School   \n",
       "..          ...                 ...                                ...   \n",
       "180        ZHOU             ZHIYUAN                 Earl of March S.S.   \n",
       "181        ZHOU           DONG XIAO                                NaN   \n",
       "182        ZHOU             RICHARD               Diocesan Boys School   \n",
       "183        ZHOU              YIHANG  Nanjing Foreign Language School I   \n",
       "184        ZHOU                 RUI  Outstanding International Academy   \n",
       "\n",
       "                        Location  \n",
       "0    Happy Valley, Hong Kong SAR  \n",
       "1                    Toronto, ON  \n",
       "2                 North York, ON  \n",
       "3                 Athens, Greece  \n",
       "4         Port Harcourt, Nigeria  \n",
       "..                           ...  \n",
       "180                   Kanata, ON  \n",
       "181                 Richmond, BC  \n",
       "182       Kowloon, Hong Kong SAR  \n",
       "183               Nanjing, China  \n",
       "184                  Markham, ON  \n",
       "\n",
       "[185 rows x 4 columns]"
      ]
     },
     "execution_count": 46,
     "metadata": {},
     "output_type": "execute_result"
    }
   ],
   "source": [
    "import pandas as pd\n",
    "\n",
    "table = pd.read_csv('table.csv')\n",
    "table"
   ]
  },
  {
   "cell_type": "markdown",
   "metadata": {},
   "source": [
    "### Most common locations"
   ]
  },
  {
   "cell_type": "code",
   "execution_count": 47,
   "metadata": {},
   "outputs": [
    {
     "data": {
      "text/plain": [
       "Location\n",
       "Toronto, ON                   14\n",
       "Hong Kong, Hong Kong SAR      13\n",
       "North York, ON                10\n",
       "Markham, ON                   10\n",
       "Kowloon, Hong Kong SAR         9\n",
       "                              ..\n",
       "Timmins, ON                    1\n",
       "Daegu, Korea Republic of       1\n",
       "Breslau, ON                    1\n",
       "Whitchurch-Stouffville, ON     1\n",
       "West Vancouver, BC             1\n",
       "Name: count, Length: 66, dtype: int64"
      ]
     },
     "execution_count": 47,
     "metadata": {},
     "output_type": "execute_result"
    }
   ],
   "source": [
    "# get the most common locations\n",
    "locations = table['Location'].value_counts()\n",
    "locations"
   ]
  },
  {
   "cell_type": "markdown",
   "metadata": {},
   "source": [
    "### Most common countries/provinces/states"
   ]
  },
  {
   "cell_type": "code",
   "execution_count": 48,
   "metadata": {},
   "outputs": [
    {
     "data": {
      "text/plain": [
       "ON                   79\n",
       "China                28\n",
       "Hong Kong SAR        23\n",
       "BC                   13\n",
       "NJ                    6\n",
       "Korea Republic of     6\n",
       "AB                    5\n",
       "Singapore             4\n",
       "MB                    3\n",
       "WA                    2\n",
       "SK                    2\n",
       "CA                    2\n",
       "Australia             2\n",
       "PA                    2\n",
       "Turkey                1\n",
       "NY                    1\n",
       "QC                    1\n",
       "Greece                1\n",
       "Nigeria               1\n",
       "MA                    1\n",
       "Indonesia             1\n",
       "NB                    1\n",
       "dtype: int64"
      ]
     },
     "execution_count": 48,
     "metadata": {},
     "output_type": "execute_result"
    }
   ],
   "source": [
    "countries = {}\n",
    "for location in locations.keys():\n",
    "    country = location.split(',')[-1].strip()\n",
    "    if country not in countries:\n",
    "        countries[country] = locations.at[location]\n",
    "    else:\n",
    "        countries[country] += locations.at[location]\n",
    "countries = pd.Series(countries).sort_values(ascending=False)\n",
    "countries"
   ]
  },
  {
   "cell_type": "markdown",
   "metadata": {},
   "source": [
    "### Filtering to count only countries"
   ]
  },
  {
   "cell_type": "code",
   "execution_count": 49,
   "metadata": {},
   "outputs": [],
   "source": [
    "# abbreviations for US and Canada states and provinces\n",
    "canada_abbr = [\n",
    "    'ON',\n",
    "    'BC',\n",
    "    'MB',\n",
    "    'NB',\n",
    "    'NF',\n",
    "    'NS',\n",
    "    'NT',\n",
    "    'QC',\n",
    "    'SK',\n",
    "    'AB',\n",
    "    'PE',\n",
    "    'NU'\n",
    "]\n",
    "# it is unclear what the other abbreviations are but I am going to assume they are American\n",
    "us_state_abbreviations = [\n",
    "    \"AL\",  # Alabama\n",
    "    \"AK\",  # Alaska\n",
    "    \"AZ\",  # Arizona\n",
    "    \"AR\",  # Arkansas\n",
    "    \"CA\",  # California\n",
    "    \"CO\",  # Colorado\n",
    "    \"CT\",  # Connecticut\n",
    "    \"DE\",  # Delaware\n",
    "    \"FL\",  # Florida\n",
    "    \"GA\",  # Georgia\n",
    "    \"HI\",  # Hawaii\n",
    "    \"ID\",  # Idaho\n",
    "    \"IL\",  # Illinois\n",
    "    \"IN\",  # Indiana\n",
    "    \"IA\",  # Iowa\n",
    "    \"KS\",  # Kansas\n",
    "    \"KY\",  # Kentucky\n",
    "    \"LA\",  # Louisiana\n",
    "    \"ME\",  # Maine\n",
    "    \"MD\",  # Maryland\n",
    "    \"MA\",  # Massachusetts\n",
    "    \"MI\",  # Michigan\n",
    "    \"MN\",  # Minnesota\n",
    "    \"MS\",  # Mississippi\n",
    "    \"MO\",  # Missouri\n",
    "    \"MT\",  # Montana\n",
    "    \"NE\",  # Nebraska\n",
    "    \"NV\",  # Nevada\n",
    "    \"NH\",  # New Hampshire\n",
    "    \"NJ\",  # New Jersey\n",
    "    \"NM\",  # New Mexico\n",
    "    \"NY\",  # New York\n",
    "    \"NC\",  # North Carolina\n",
    "    \"ND\",  # North Dakota\n",
    "    \"OH\",  # Ohio\n",
    "    \"OK\",  # Oklahoma\n",
    "    \"OR\",  # Oregon\n",
    "    \"PA\",  # Pennsylvania\n",
    "    \"RI\",  # Rhode Island\n",
    "    \"SC\",  # South Carolina\n",
    "    \"SD\",  # South Dakota\n",
    "    \"TN\",  # Tennessee\n",
    "    \"TX\",  # Texas\n",
    "    \"UT\",  # Utah\n",
    "    \"VT\",  # Vermont\n",
    "    \"VA\",  # Virginia\n",
    "    \"WA\",  # Washington\n",
    "    \"WV\",  # West Virginia\n",
    "    \"WI\",  # Wisconsin\n",
    "    \"WY\"   # Wyoming\n",
    "]"
   ]
  },
  {
   "cell_type": "code",
   "execution_count": 54,
   "metadata": {},
   "outputs": [
    {
     "data": {
      "text/plain": [
       "Canada               104\n",
       "China                 28\n",
       "Hong Kong SAR         23\n",
       "United States         14\n",
       "Korea Republic of      6\n",
       "Singapore              4\n",
       "Australia              2\n",
       "Turkey                 1\n",
       "Greece                 1\n",
       "Nigeria                1\n",
       "Indonesia              1\n",
       "dtype: int64"
      ]
     },
     "execution_count": 54,
     "metadata": {},
     "output_type": "execute_result"
    }
   ],
   "source": [
    "only_countries = {}\n",
    "for country in countries.keys():\n",
    "    new_country = country\n",
    "    if country in canada_abbr:\n",
    "        new_country = 'Canada'\n",
    "    elif country in us_state_abbreviations:\n",
    "        new_country = 'United States'\n",
    "    if new_country not in only_countries:\n",
    "        only_countries[new_country] = countries.at[country]\n",
    "    else:\n",
    "        only_countries[new_country] += countries.at[country]\n",
    "only_countries = pd.Series(only_countries).sort_values(ascending=False)\n",
    "only_countries"
   ]
  },
  {
   "cell_type": "markdown",
   "metadata": {},
   "source": [
    "### Most common schools"
   ]
  },
  {
   "cell_type": "code",
   "execution_count": 51,
   "metadata": {},
   "outputs": [
    {
     "data": {
      "text/plain": [
       "School\n",
       "Nanjing Foreign Language School I    8\n",
       "Diocesan Boys School                 8\n",
       "University of Toronto Schools        8\n",
       "Wah Yan College Kowloon              7\n",
       "William Lyon Mackenzie C.I.          6\n",
       "                                    ..\n",
       "Daegu International School           1\n",
       "E.S. Theriault                       1\n",
       "Centennial Collegiate                1\n",
       "Fredericton Christian Academy        1\n",
       "Canada Royal Arts High School        1\n",
       "Name: count, Length: 108, dtype: int64"
      ]
     },
     "execution_count": 51,
     "metadata": {},
     "output_type": "execute_result"
    }
   ],
   "source": [
    "schools = table['School']\n",
    "schools.value_counts()"
   ]
  },
  {
   "cell_type": "markdown",
   "metadata": {},
   "source": [
    "### Most common last names"
   ]
  },
  {
   "cell_type": "code",
   "execution_count": 52,
   "metadata": {},
   "outputs": [
    {
     "data": {
      "text/plain": [
       "Last Name\n",
       "ZHANG    13\n",
       "WANG      9\n",
       "LI        8\n",
       "ZHOU      6\n",
       "LIU       5\n",
       "         ..\n",
       "HUI       1\n",
       "HU        1\n",
       "HORNE     1\n",
       "HAN       1\n",
       "LOMOV     1\n",
       "Name: count, Length: 115, dtype: int64"
      ]
     },
     "execution_count": 52,
     "metadata": {},
     "output_type": "execute_result"
    }
   ],
   "source": [
    "last_names = table['Last Name']\n",
    "last_names.value_counts()"
   ]
  },
  {
   "cell_type": "markdown",
   "metadata": {},
   "source": [
    "### Most common first names"
   ]
  },
  {
   "cell_type": "code",
   "execution_count": 53,
   "metadata": {},
   "outputs": [
    {
     "data": {
      "text/plain": [
       "First Name\n",
       "ANDREW    3\n",
       "KEVIN     3\n",
       "ERIC      3\n",
       "RYAN      3\n",
       "EDWARD    2\n",
       "         ..\n",
       "AIDAN     1\n",
       "HENRY     1\n",
       "ZEYAN     1\n",
       "SIYUAN    1\n",
       "RUI       1\n",
       "Name: count, Length: 168, dtype: int64"
      ]
     },
     "execution_count": 53,
     "metadata": {},
     "output_type": "execute_result"
    }
   ],
   "source": [
    "first_names = table['First Name']\n",
    "first_names.value_counts()"
   ]
  }
 ],
 "metadata": {
  "kernelspec": {
   "display_name": "Python 3",
   "language": "python",
   "name": "python3"
  },
  "language_info": {
   "codemirror_mode": {
    "name": "ipython",
    "version": 3
   },
   "file_extension": ".py",
   "mimetype": "text/x-python",
   "name": "python",
   "nbconvert_exporter": "python",
   "pygments_lexer": "ipython3",
   "version": "3.11.1"
  }
 },
 "nbformat": 4,
 "nbformat_minor": 2
}
